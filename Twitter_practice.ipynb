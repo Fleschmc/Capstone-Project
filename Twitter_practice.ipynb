{
 "cells": [
  {
   "cell_type": "code",
   "execution_count": 1,
   "metadata": {},
   "outputs": [],
   "source": [
    "import tweepy\n",
    "import pandas as pd\n",
    "import json"
   ]
  },
  {
   "cell_type": "code",
   "execution_count": 2,
   "metadata": {},
   "outputs": [],
   "source": [
    "key, secret, bearer, access, access_secret = '', '', '', '', ''\n",
    "auth = tweepy.AppAuthHandler(key, secret)\n",
    "#auth.set_access_token(access, access_secret)\n",
    "\n",
    "api = tweepy.API(auth)"
   ]
  },
  {
   "cell_type": "code",
   "execution_count": 3,
   "metadata": {},
   "outputs": [],
   "source": [
    "# result_type = popular or mixed or recent\n",
    "query = '-is:retweet \"climate change\" OR \"global warming\" OR #ClimateChange'\n",
    "search = api.search(q = query, lang = 'en', tweet_mode = 'extended', count = 1000)"
   ]
  },
  {
   "cell_type": "code",
   "execution_count": null,
   "metadata": {},
   "outputs": [],
   "source": [
    "for _ in range(len(search)):\n",
    "    print(str(_) + search[_].full_text)"
   ]
  },
  {
   "cell_type": "code",
   "execution_count": 17,
   "metadata": {},
   "outputs": [
    {
     "data": {
      "text/plain": [
       "dict_keys(['created_at', 'id', 'id_str', 'full_text', 'truncated', 'display_text_range', 'entities', 'metadata', 'source', 'in_reply_to_status_id', 'in_reply_to_status_id_str', 'in_reply_to_user_id', 'in_reply_to_user_id_str', 'in_reply_to_screen_name', 'user', 'geo', 'coordinates', 'place', 'contributors', 'retweeted_status', 'is_quote_status', 'retweet_count', 'favorite_count', 'favorited', 'retweeted', 'lang'])"
      ]
     },
     "execution_count": 17,
     "metadata": {},
     "output_type": "execute_result"
    }
   ],
   "source": [
    "search[0]._json.keys()"
   ]
  },
  {
   "cell_type": "code",
   "execution_count": 35,
   "metadata": {},
   "outputs": [],
   "source": [
    "master_list = []\n",
    "for _ in range(len(search)):\n",
    "    data_dict = {}\n",
    "    data_dict['name']           = search[_]._json['user']['name']\n",
    "    data_dict['screen_name']    = search[_]._json['user']['screen_name']\n",
    "    data_dict['id']             = search[_]._json['user']['id']\n",
    "    data_dict['location']       = search[_]._json['user']['location']\n",
    "    data_dict['tweet']          = search[_]._json['full_text']\n",
    "    data_dict['created_at']     = search[_]._json['created_at']\n",
    "    data_dict['retweets']       = search[_]._json['retweet_count']\n",
    "    data_dict['favorites']      = search[_]._json['favorite_count']\n",
    "    master_list.append(data_dict)"
   ]
  },
  {
   "cell_type": "code",
   "execution_count": 106,
   "metadata": {},
   "outputs": [
    {
     "data": {
      "text/plain": [
       "{'iso_language_code': 'en', 'result_type': 'recent'}"
      ]
     },
     "execution_count": 106,
     "metadata": {},
     "output_type": "execute_result"
    }
   ],
   "source": [
    "search[99]._json['']"
   ]
  }
 ],
 "metadata": {
  "kernelspec": {
   "display_name": "Python 3",
   "language": "python",
   "name": "python3"
  },
  "language_info": {
   "codemirror_mode": {
    "name": "ipython",
    "version": 3
   },
   "file_extension": ".py",
   "mimetype": "text/x-python",
   "name": "python",
   "nbconvert_exporter": "python",
   "pygments_lexer": "ipython3",
   "version": "3.8.8"
  }
 },
 "nbformat": 4,
 "nbformat_minor": 4
}
